{
 "cells": [
  {
   "cell_type": "markdown",
   "metadata": {
    "papermill": {
     "duration": 0.011153,
     "end_time": "2020-10-28T18:11:31.823843",
     "exception": false,
     "start_time": "2020-10-28T18:11:31.812690",
     "status": "completed"
    },
    "tags": []
   },
   "source": [
    "# Titanic Data Exploration and Model"
   ]
  },
  {
   "cell_type": "markdown",
   "metadata": {
    "papermill": {
     "duration": 0.010179,
     "end_time": "2020-10-28T18:11:31.843663",
     "exception": false,
     "start_time": "2020-10-28T18:11:31.833484",
     "status": "completed"
    },
    "tags": []
   },
   "source": [
    "## Introduction\n",
    "Tis is the notebook that I used to get a top 10% score on \"Titanic: Machine Learning from Disaster\", at time of publication."
   ]
  },
  {
   "cell_type": "markdown",
   "metadata": {
    "papermill": {
     "duration": 0.010467,
     "end_time": "2020-10-28T18:11:31.865549",
     "exception": false,
     "start_time": "2020-10-28T18:11:31.855082",
     "status": "completed"
    },
    "tags": []
   },
   "source": [
    "![Top 8%](https://i.imgur.com/N1PmqdL.png)"
   ]
  },
  {
   "cell_type": "markdown",
   "metadata": {
    "papermill": {
     "duration": 0.009328,
     "end_time": "2020-10-28T18:11:31.884534",
     "exception": false,
     "start_time": "2020-10-28T18:11:31.875206",
     "status": "completed"
    },
    "tags": []
   },
   "source": [
    "## Initial Library Imports"
   ]
  },
  {
   "cell_type": "code",
   "execution_count": 1,
   "metadata": {
    "_cell_guid": "b1076dfc-b9ad-4769-8c92-a6c4dae69d19",
    "_uuid": "8f2839f25d086af736a60e9eeb907d3b93b6e0e5",
    "execution": {
     "iopub.execute_input": "2020-10-28T18:11:31.911748Z",
     "iopub.status.busy": "2020-10-28T18:11:31.911007Z",
     "iopub.status.idle": "2020-10-28T18:11:34.069009Z",
     "shell.execute_reply": "2020-10-28T18:11:34.068348Z"
    },
    "papermill": {
     "duration": 2.175,
     "end_time": "2020-10-28T18:11:34.069166",
     "exception": false,
     "start_time": "2020-10-28T18:11:31.894166",
     "status": "completed"
    },
    "tags": []
   },
   "outputs": [
    {
     "name": "stdout",
     "output_type": "stream",
     "text": [
      "/kaggle/input/titanic/gender_submission.csv\n",
      "/kaggle/input/titanic/test.csv\n",
      "/kaggle/input/titanic/train.csv\n"
     ]
    }
   ],
   "source": [
    "# This code is an adaptation from Cody McCormack\n",
    "# I gave an initial bias to 0.55 rather than 0.5\n",
    "\n",
    "import numpy as np \n",
    "import pandas as pd \n",
    "\n",
    "import os\n",
    "for dirname, _, filenames in os.walk('/kaggle/input'):\n",
    "    for filename in filenames:\n",
    "        print(os.path.join(dirname, filename))\n",
    "import matplotlib.pyplot as plt\n",
    "import seaborn as sns\n",
    "from sklearn.compose import ColumnTransformer\n",
    "from sklearn.pipeline import Pipeline\n",
    "from sklearn.impute import SimpleImputer\n",
    "from sklearn.preprocessing import LabelEncoder, OneHotEncoder\n",
    "from sklearn.model_selection import train_test_split\n",
    "from sklearn.metrics import accuracy_score\n",
    "from xgboost import XGBClassifier"
   ]
  },
  {
   "cell_type": "markdown",
   "metadata": {
    "papermill": {
     "duration": 0.009348,
     "end_time": "2020-10-28T18:11:34.089094",
     "exception": false,
     "start_time": "2020-10-28T18:11:34.079746",
     "status": "completed"
    },
    "tags": []
   },
   "source": [
    "## EDA"
   ]
  },
  {
   "cell_type": "code",
   "execution_count": 2,
   "metadata": {
    "_cell_guid": "79c7e3d0-c299-4dcb-8224-4455121ee9b0",
    "_uuid": "d629ff2d2480ee46fbb7e2d37f6b5fab8052498a",
    "execution": {
     "iopub.execute_input": "2020-10-28T18:11:34.119837Z",
     "iopub.status.busy": "2020-10-28T18:11:34.118632Z",
     "iopub.status.idle": "2020-10-28T18:11:34.152057Z",
     "shell.execute_reply": "2020-10-28T18:11:34.151446Z"
    },
    "papermill": {
     "duration": 0.053267,
     "end_time": "2020-10-28T18:11:34.152194",
     "exception": false,
     "start_time": "2020-10-28T18:11:34.098927",
     "status": "completed"
    },
    "tags": []
   },
   "outputs": [
    {
     "data": {
      "text/html": [
       "<div>\n",
       "<style scoped>\n",
       "    .dataframe tbody tr th:only-of-type {\n",
       "        vertical-align: middle;\n",
       "    }\n",
       "\n",
       "    .dataframe tbody tr th {\n",
       "        vertical-align: top;\n",
       "    }\n",
       "\n",
       "    .dataframe thead th {\n",
       "        text-align: right;\n",
       "    }\n",
       "</style>\n",
       "<table border=\"1\" class=\"dataframe\">\n",
       "  <thead>\n",
       "    <tr style=\"text-align: right;\">\n",
       "      <th></th>\n",
       "      <th>PassengerId</th>\n",
       "      <th>Survived</th>\n",
       "      <th>Pclass</th>\n",
       "      <th>Name</th>\n",
       "      <th>Sex</th>\n",
       "      <th>Age</th>\n",
       "      <th>SibSp</th>\n",
       "      <th>Parch</th>\n",
       "      <th>Ticket</th>\n",
       "      <th>Fare</th>\n",
       "      <th>Cabin</th>\n",
       "      <th>Embarked</th>\n",
       "    </tr>\n",
       "  </thead>\n",
       "  <tbody>\n",
       "    <tr>\n",
       "      <th>0</th>\n",
       "      <td>1</td>\n",
       "      <td>0</td>\n",
       "      <td>3</td>\n",
       "      <td>Braund, Mr. Owen Harris</td>\n",
       "      <td>male</td>\n",
       "      <td>22.0</td>\n",
       "      <td>1</td>\n",
       "      <td>0</td>\n",
       "      <td>A/5 21171</td>\n",
       "      <td>7.2500</td>\n",
       "      <td>NaN</td>\n",
       "      <td>S</td>\n",
       "    </tr>\n",
       "    <tr>\n",
       "      <th>1</th>\n",
       "      <td>2</td>\n",
       "      <td>1</td>\n",
       "      <td>1</td>\n",
       "      <td>Cumings, Mrs. John Bradley (Florence Briggs Th...</td>\n",
       "      <td>female</td>\n",
       "      <td>38.0</td>\n",
       "      <td>1</td>\n",
       "      <td>0</td>\n",
       "      <td>PC 17599</td>\n",
       "      <td>71.2833</td>\n",
       "      <td>C85</td>\n",
       "      <td>C</td>\n",
       "    </tr>\n",
       "    <tr>\n",
       "      <th>2</th>\n",
       "      <td>3</td>\n",
       "      <td>1</td>\n",
       "      <td>3</td>\n",
       "      <td>Heikkinen, Miss. Laina</td>\n",
       "      <td>female</td>\n",
       "      <td>26.0</td>\n",
       "      <td>0</td>\n",
       "      <td>0</td>\n",
       "      <td>STON/O2. 3101282</td>\n",
       "      <td>7.9250</td>\n",
       "      <td>NaN</td>\n",
       "      <td>S</td>\n",
       "    </tr>\n",
       "    <tr>\n",
       "      <th>3</th>\n",
       "      <td>4</td>\n",
       "      <td>1</td>\n",
       "      <td>1</td>\n",
       "      <td>Futrelle, Mrs. Jacques Heath (Lily May Peel)</td>\n",
       "      <td>female</td>\n",
       "      <td>35.0</td>\n",
       "      <td>1</td>\n",
       "      <td>0</td>\n",
       "      <td>113803</td>\n",
       "      <td>53.1000</td>\n",
       "      <td>C123</td>\n",
       "      <td>S</td>\n",
       "    </tr>\n",
       "    <tr>\n",
       "      <th>4</th>\n",
       "      <td>5</td>\n",
       "      <td>0</td>\n",
       "      <td>3</td>\n",
       "      <td>Allen, Mr. William Henry</td>\n",
       "      <td>male</td>\n",
       "      <td>35.0</td>\n",
       "      <td>0</td>\n",
       "      <td>0</td>\n",
       "      <td>373450</td>\n",
       "      <td>8.0500</td>\n",
       "      <td>NaN</td>\n",
       "      <td>S</td>\n",
       "    </tr>\n",
       "  </tbody>\n",
       "</table>\n",
       "</div>"
      ],
      "text/plain": [
       "   PassengerId  Survived  Pclass  \\\n",
       "0            1         0       3   \n",
       "1            2         1       1   \n",
       "2            3         1       3   \n",
       "3            4         1       1   \n",
       "4            5         0       3   \n",
       "\n",
       "                                                Name     Sex   Age  SibSp  \\\n",
       "0                            Braund, Mr. Owen Harris    male  22.0      1   \n",
       "1  Cumings, Mrs. John Bradley (Florence Briggs Th...  female  38.0      1   \n",
       "2                             Heikkinen, Miss. Laina  female  26.0      0   \n",
       "3       Futrelle, Mrs. Jacques Heath (Lily May Peel)  female  35.0      1   \n",
       "4                           Allen, Mr. William Henry    male  35.0      0   \n",
       "\n",
       "   Parch            Ticket     Fare Cabin Embarked  \n",
       "0      0         A/5 21171   7.2500   NaN        S  \n",
       "1      0          PC 17599  71.2833   C85        C  \n",
       "2      0  STON/O2. 3101282   7.9250   NaN        S  \n",
       "3      0            113803  53.1000  C123        S  \n",
       "4      0            373450   8.0500   NaN        S  "
      ]
     },
     "execution_count": 2,
     "metadata": {},
     "output_type": "execute_result"
    }
   ],
   "source": [
    "titanic_data = pd.read_csv('../input/titanic/train.csv')\n",
    "titanic_data.head()"
   ]
  },
  {
   "cell_type": "code",
   "execution_count": 3,
   "metadata": {
    "execution": {
     "iopub.execute_input": "2020-10-28T18:11:34.185503Z",
     "iopub.status.busy": "2020-10-28T18:11:34.184024Z",
     "iopub.status.idle": "2020-10-28T18:11:34.402933Z",
     "shell.execute_reply": "2020-10-28T18:11:34.402242Z"
    },
    "papermill": {
     "duration": 0.240198,
     "end_time": "2020-10-28T18:11:34.403061",
     "exception": false,
     "start_time": "2020-10-28T18:11:34.162863",
     "status": "completed"
    },
    "tags": []
   },
   "outputs": [
    {
     "data": {
      "text/plain": [
       "<matplotlib.axes._subplots.AxesSubplot at 0x7fa6324b6350>"
      ]
     },
     "execution_count": 3,
     "metadata": {},
     "output_type": "execute_result"
    },
    {
     "data": {
      "image/png": "[encoded data removed]",
      "text/plain": [
       "<Figure size 432x288 with 1 Axes>"
      ]
     },
     "metadata": {
      "needs_background": "light"
     },
     "output_type": "display_data"
    }
   ],
   "source": [
    "sns.barplot(x='Sex', y='Survived', data=titanic_data)\n"
   ]
  },
  {
   "cell_type": "code",
   "execution_count": 4,
   "metadata": {
    "execution": {
     "iopub.execute_input": "2020-10-28T18:11:34.434227Z",
     "iopub.status.busy": "2020-10-28T18:11:34.433479Z",
     "iopub.status.idle": "2020-10-28T18:11:34.630187Z",
     "shell.execute_reply": "2020-10-28T18:11:34.629681Z"
    },
    "papermill": {
     "duration": 0.215774,
     "end_time": "2020-10-28T18:11:34.630345",
     "exception": false,
     "start_time": "2020-10-28T18:11:34.414571",
     "status": "completed"
    },
    "tags": []
   },
   "outputs": [
    {
     "data": {
      "text/plain": [
       "<matplotlib.axes._subplots.AxesSubplot at 0x7fa6322d10d0>"
      ]
     },
     "execution_count": 4,
     "metadata": {},
     "output_type": "execute_result"
    },
    {
     "data": {
      "image/png": "[encoded data removed]",
      "text/plain": [
       "<Figure size 432x288 with 1 Axes>"
      ]
     },
     "metadata": {
      "needs_background": "light"
     },
     "output_type": "display_data"
    }
   ],
   "source": [
    "sns.barplot(x='Pclass', y='Survived', data=titanic_data)\n"
   ]
  },
  {
   "cell_type": "code",
   "execution_count": 5,
   "metadata": {
    "execution": {
     "iopub.execute_input": "2020-10-28T18:11:34.669163Z",
     "iopub.status.busy": "2020-10-28T18:11:34.662490Z",
     "iopub.status.idle": "2020-10-28T18:11:34.871442Z",
     "shell.execute_reply": "2020-10-28T18:11:34.870778Z"
    },
    "papermill": {
     "duration": 0.228592,
     "end_time": "2020-10-28T18:11:34.871557",
     "exception": false,
     "start_time": "2020-10-28T18:11:34.642965",
     "status": "completed"
    },
    "tags": []
   },
   "outputs": [
    {
     "data": {
      "text/plain": [
       "<matplotlib.axes._subplots.AxesSubplot at 0x7fa632255910>"
      ]
     },
     "execution_count": 5,
     "metadata": {},
     "output_type": "execute_result"
    },
    {
     "data": {
      "image/png": "[encoded data removed]",
      "text/plain": [
       "<Figure size 432x288 with 1 Axes>"
      ]
     },
     "metadata": {
      "needs_background": "light"
     },
     "output_type": "display_data"
    }
   ],
   "source": [
    "sns.barplot(x='Embarked', y='Survived', data=titanic_data)"
   ]
  },
  {
   "cell_type": "code",
   "execution_count": 6,
   "metadata": {
    "execution": {
     "iopub.execute_input": "2020-10-28T18:11:34.911121Z",
     "iopub.status.busy": "2020-10-28T18:11:34.909861Z",
     "iopub.status.idle": "2020-10-28T18:11:35.070169Z",
     "shell.execute_reply": "2020-10-28T18:11:35.069494Z"
    },
    "papermill": {
     "duration": 0.185032,
     "end_time": "2020-10-28T18:11:35.070304",
     "exception": false,
     "start_time": "2020-10-28T18:11:34.885272",
     "status": "completed"
    },
    "tags": []
   },
   "outputs": [
    {
     "data": {
      "text/plain": [
       "<matplotlib.axes._subplots.AxesSubplot at 0x7fa6321c2210>"
      ]
     },
     "execution_count": 6,
     "metadata": {},
     "output_type": "execute_result"
    },
    {
     "data": {
      "image/png": "[encoded data removed]",
      "text/plain": [
       "<Figure size 432x288 with 1 Axes>"
      ]
     },
     "metadata": {
      "needs_background": "light"
     },
     "output_type": "display_data"
    }
   ],
   "source": [
    "age_survived = titanic_data['Age'] + titanic_data['Survived']\n",
    "sns.distplot(age_survived)"
   ]
  },
  {
   "cell_type": "code",
   "execution_count": 7,
   "metadata": {
    "execution": {
     "iopub.execute_input": "2020-10-28T18:11:35.110626Z",
     "iopub.status.busy": "2020-10-28T18:11:35.104871Z",
     "iopub.status.idle": "2020-10-28T18:11:35.326128Z",
     "shell.execute_reply": "2020-10-28T18:11:35.325441Z"
    },
    "papermill": {
     "duration": 0.241275,
     "end_time": "2020-10-28T18:11:35.326249",
     "exception": false,
     "start_time": "2020-10-28T18:11:35.084974",
     "status": "completed"
    },
    "tags": []
   },
   "outputs": [
    {
     "data": {
      "text/plain": [
       "<matplotlib.axes._subplots.AxesSubplot at 0x7fa632105750>"
      ]
     },
     "execution_count": 7,
     "metadata": {},
     "output_type": "execute_result"
    },
    {
     "data": {
      "image/png": "[encoded data removed]",
      "text/plain": [
       "<Figure size 432x288 with 1 Axes>"
      ]
     },
     "metadata": {
      "needs_background": "light"
     },
     "output_type": "display_data"
    }
   ],
   "source": [
    "fare_survived = titanic_data['Fare'] + titanic_data['Survived']\n",
    "sns.distplot(fare_survived)"
   ]
  },
  {
   "cell_type": "code",
   "execution_count": 8,
   "metadata": {
    "execution": {
     "iopub.execute_input": "2020-10-28T18:11:35.363278Z",
     "iopub.status.busy": "2020-10-28T18:11:35.362613Z",
     "iopub.status.idle": "2020-10-28T18:11:35.722156Z",
     "shell.execute_reply": "2020-10-28T18:11:35.721439Z"
    },
    "papermill": {
     "duration": 0.380302,
     "end_time": "2020-10-28T18:11:35.722291",
     "exception": false,
     "start_time": "2020-10-28T18:11:35.341989",
     "status": "completed"
    },
    "tags": []
   },
   "outputs": [
    {
     "data": {
      "image/png": "[encoded data removed]",
      "text/plain": [
       "<Figure size 432x288 with 2 Axes>"
      ]
     },
     "metadata": {
      "needs_background": "light"
     },
     "output_type": "display_data"
    }
   ],
   "source": [
    "g = sns.heatmap(titanic_data.corr(),annot=True, fmt = \".1f\", cmap = \"coolwarm\")"
   ]
  },
  {
   "cell_type": "markdown",
   "metadata": {
    "papermill": {
     "duration": 0.016738,
     "end_time": "2020-10-28T18:11:35.756971",
     "exception": false,
     "start_time": "2020-10-28T18:11:35.740233",
     "status": "completed"
    },
    "tags": []
   },
   "source": [
    "## Model Creation"
   ]
  },
  {
   "cell_type": "code",
   "execution_count": 9,
   "metadata": {
    "execution": {
     "iopub.execute_input": "2020-10-28T18:11:35.802202Z",
     "iopub.status.busy": "2020-10-28T18:11:35.801419Z",
     "iopub.status.idle": "2020-10-28T18:11:35.804458Z",
     "shell.execute_reply": "2020-10-28T18:11:35.803836Z"
    },
    "papermill": {
     "duration": 0.029887,
     "end_time": "2020-10-28T18:11:35.804572",
     "exception": false,
     "start_time": "2020-10-28T18:11:35.774685",
     "status": "completed"
    },
    "tags": []
   },
   "outputs": [],
   "source": [
    "features = [x for x in titanic_data.columns if x not in ['Survived']]\n",
    "X = titanic_data[features]\n",
    "y = titanic_data['Survived']"
   ]
  },
  {
   "cell_type": "code",
   "execution_count": 10,
   "metadata": {
    "execution": {
     "iopub.execute_input": "2020-10-28T18:11:35.859122Z",
     "iopub.status.busy": "2020-10-28T18:11:35.857953Z",
     "iopub.status.idle": "2020-10-28T18:11:36.585666Z",
     "shell.execute_reply": "2020-10-28T18:11:36.585061Z"
    },
    "papermill": {
     "duration": 0.764138,
     "end_time": "2020-10-28T18:11:36.585797",
     "exception": false,
     "start_time": "2020-10-28T18:11:35.821659",
     "status": "completed"
    },
    "tags": []
   },
   "outputs": [
    {
     "name": "stdout",
     "output_type": "stream",
     "text": [
      "Accuracy Score: 0.8430493273542601\n"
     ]
    }
   ],
   "source": [
    "X_initial = X.copy()\n",
    "X_initial['family_size'] = X_initial['SibSp'] + X_initial['Parch'] + 1\n",
    "X_initial['embarked_class'] = X_initial['Embarked'] + '_' + X_initial['Pclass'].astype(str)\n",
    "X_initial = X_initial.drop(columns=['Name', 'Ticket'], axis=1)\n",
    "numerical_cols = [cname for cname in X_initial.columns if \n",
    "                X_initial[cname].dtype in ['int64', 'float64']]\n",
    "\n",
    "categorical_cols = [cname for cname in X_initial.columns if\n",
    "                    X_initial[cname].nunique() < 18 and \n",
    "                    X_initial[cname].dtype in ['object', 'bool']]\n",
    "\n",
    "numerical_transformer = SimpleImputer(strategy='constant')\n",
    "\n",
    "categorical_transformer = Pipeline(steps=[\n",
    "    ('imputer', SimpleImputer(strategy='most_frequent')),\n",
    "    ('onehot', OneHotEncoder(handle_unknown='ignore'))\n",
    "])\n",
    "\n",
    "#Couldn't change the Imputer as male vs female is a binary choice. Perhaps some kind of encoder specifically for gender?\n",
    "\n",
    "preprocessor = ColumnTransformer(\n",
    "    transformers=[\n",
    "        ('num', numerical_transformer, numerical_cols),\n",
    "        ('cat', categorical_transformer, categorical_cols)\n",
    "])\n",
    "\n",
    "model = XGBClassifier(base_score=0.55, booster='gbtree', colsample_bylevel=1,\n",
    "              colsample_bynode=1, colsample_bytree=1.0, gamma=1.5, gpu_id=None,\n",
    "              importance_type='gain', interaction_constraints='',\n",
    "              learning_rate=0.02, max_delta_step=0, max_depth=9,\n",
    "              min_child_weight=1, monotone_constraints='()',\n",
    "              n_estimators=400, n_jobs=1, nthread=1, num_parallel_tree=1,\n",
    "              random_state=0, reg_alpha=0, reg_lambda=1, scale_pos_weight=1,\n",
    "              subsample=1.0, tree_method='exact', validate_parameters=1,\n",
    "              verbosity=None)\n",
    "#Things tried:\n",
    "# A higher base_score increase likelihood 0.5->0.75\n",
    "#The different importance types don't change much\n",
    "# gbtree is the best booster\n",
    "#Learning rate changes led nowhere\n",
    "#Max_delta changes step led nowhere\n",
    "#A higher max_depth led to better results 6->9, Do odd values work in tangent? Even values seemed to stay the same\n",
    "# n_estimator changes went lower or no change\n",
    "# random_state changes did nothing\n",
    "# Tree_method choice 'exact' is valid for this small data set\n",
    "\n",
    "\n",
    "\n",
    "clf = Pipeline(steps=[('preprocessor', preprocessor),\n",
    "                      ('model', model)\n",
    "                     ])\n",
    "\n",
    "X_train, X_valid, y_train, y_valid = train_test_split(X_initial, y, random_state=0)\n",
    "\n",
    "clf.fit(X_train, y_train)\n",
    "preds = clf.predict(X_valid)\n",
    "print('Accuracy Score:', accuracy_score(y_valid, preds))\n",
    "#Accuracy Score: 0.8340807174887892\n",
    "#My best score:  0.8475336322869955"
   ]
  },
  {
   "cell_type": "code",
   "execution_count": 11,
   "metadata": {
    "execution": {
     "iopub.execute_input": "2020-10-28T18:11:36.628998Z",
     "iopub.status.busy": "2020-10-28T18:11:36.627971Z",
     "iopub.status.idle": "2020-10-28T18:11:37.015660Z",
     "shell.execute_reply": "2020-10-28T18:11:37.015060Z"
    },
    "papermill": {
     "duration": 0.412651,
     "end_time": "2020-10-28T18:11:37.015819",
     "exception": false,
     "start_time": "2020-10-28T18:11:36.603168",
     "status": "completed"
    },
    "tags": []
   },
   "outputs": [],
   "source": [
    "X_test = pd.read_csv('../input/titanic/test.csv')\n",
    "X_test['family_size'] = X_test['SibSp'] + X_test['Parch'] + 1\n",
    "X_test['embarked_class'] = X_initial['Embarked'] + '_' + X_test['Pclass'].astype(str)\n",
    "X_test = X_test.drop(columns=['Name', 'Ticket'], axis=1)\n",
    "preds = clf.predict(X_test)\n",
    "output = pd.DataFrame({'PassengerId': X_test.PassengerId,\n",
    "                       'Survived': preds})\n",
    "output.to_csv('submission_N2.csv', index=False)"
   ]
  }
 ],
 "metadata": {
  "kernelspec": {
   "display_name": "Python 3",
   "language": "python",
   "name": "python3"
  },
  "language_info": {
   "codemirror_mode": {
    "name": "ipython",
    "version": 3
   },
   "file_extension": ".py",
   "mimetype": "text/x-python",
   "name": "python",
   "nbconvert_exporter": "python",
   "pygments_lexer": "ipython3",
   "version": "3.7.6"
  },
  "papermill": {
   "duration": 9.571649,
   "end_time": "2020-10-28T18:11:37.144267",
   "environment_variables": {},
   "exception": null,
   "input_path": "__notebook__.ipynb",
   "output_path": "__notebook__.ipynb",
   "parameters": {},
   "start_time": "2020-10-28T18:11:27.572618",
   "version": "2.1.0"
  }
 },
 "nbformat": 4,
 "nbformat_minor": 4
}
